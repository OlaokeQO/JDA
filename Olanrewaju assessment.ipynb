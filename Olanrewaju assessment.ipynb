{
 "cells": [
  {
   "cell_type": "code",
   "execution_count": 1,
   "id": "a5debb51",
   "metadata": {},
   "outputs": [
    {
     "name": "stdout",
     "output_type": "stream",
     "text": [
      "Requirement already satisfied: pandas in c:\\users\\my laptop\\anaconda3\\lib\\site-packages (2.0.3)\n",
      "Requirement already satisfied: mysql-connector-python in c:\\users\\my laptop\\anaconda3\\lib\\site-packages (8.4.0)\n",
      "Requirement already satisfied: openpyxl in c:\\users\\my laptop\\anaconda3\\lib\\site-packages (3.0.10)\n",
      "Requirement already satisfied: python-dateutil>=2.8.2 in c:\\users\\my laptop\\anaconda3\\lib\\site-packages (from pandas) (2.8.2)\n",
      "Requirement already satisfied: pytz>=2020.1 in c:\\users\\my laptop\\anaconda3\\lib\\site-packages (from pandas) (2023.3.post1)\n",
      "Requirement already satisfied: tzdata>=2022.1 in c:\\users\\my laptop\\anaconda3\\lib\\site-packages (from pandas) (2023.3)\n",
      "Requirement already satisfied: numpy>=1.21.0 in c:\\users\\my laptop\\anaconda3\\lib\\site-packages (from pandas) (1.24.3)\n",
      "Requirement already satisfied: et_xmlfile in c:\\users\\my laptop\\anaconda3\\lib\\site-packages (from openpyxl) (1.1.0)\n",
      "Requirement already satisfied: six>=1.5 in c:\\users\\my laptop\\anaconda3\\lib\\site-packages (from python-dateutil>=2.8.2->pandas) (1.16.0)\n",
      "Note: you may need to restart the kernel to use updated packages.\n"
     ]
    }
   ],
   "source": [
    "pip install pandas mysql-connector-python openpyxl"
   ]
  },
  {
   "cell_type": "code",
   "execution_count": 2,
   "id": "cf782b3a",
   "metadata": {},
   "outputs": [],
   "source": [
    "# main.py\n",
    "\n",
    "import mysql.connector\n",
    "import pandas as pd\n",
    "from openpyxl import Workbook\n",
    "\n",
    "# Database connection\n",
    "conn = mysql.connector.connect(\n",
    "    host='localhost',\n",
    "    user='root',\n",
    "    password='larryq.01',\n",
    "    database='coffeestoredata'\n",
    ")\n",
    "cursor = conn.cursor(dictionary=True)"
   ]
  },
  {
   "cell_type": "code",
   "execution_count": 3,
   "id": "4788cabd",
   "metadata": {},
   "outputs": [],
   "source": [
    "# Task 1: Total number of times each item has been ordered and total revenue generated\n",
    "query_task1 = '''\n",
    "SELECT \n",
    "    i.item_id AS itemId,\n",
    "    i.sku AS sku,\n",
    "    i.item_name AS name,\n",
    "    i.item_cat AS category,\n",
    "    i.item_size AS size,\n",
    "    SUM(o.quantity) AS numberSold,\n",
    "    SUM(o.quantity * i.item_price) AS revenue\n",
    "FROM Orders o\n",
    "JOIN Items i ON o.item_id = i.item_id\n",
    "GROUP BY i.item_id, i.sku, i.item_name, i.item_cat, i.item_size\n",
    "ORDER BY revenue DESC\n",
    "'''\n",
    "cursor.execute(query_task1)\n",
    "task1_result = pd.DataFrame(cursor.fetchall())\n"
   ]
  },
  {
   "cell_type": "code",
   "execution_count": 11,
   "id": "630256a4",
   "metadata": {},
   "outputs": [],
   "source": [
    "# Task 2: Calculate cost to produce each coffee item and determine profitability\n",
    "query_task2 = '''\n",
    "SELECT \n",
    "    i.item_id AS itemId,\n",
    "    i.sku AS sku,\n",
    "    i.item_name AS name,\n",
    "    i.Item_cat AS category,\n",
    "    i.item_size AS size,\n",
    "    SUM(o.quantity) AS numberSold,\n",
    "    SUM(o.quantity * i.item_price) AS revenue,\n",
    "    (\n",
    "        SELECT SUM(r.quantity * ing.ing_price)\n",
    "        FROM recipes r\n",
    "        JOIN ingredients ing ON r.ing_id = ing.ing_id\n",
    "        WHERE r.recipe_id = i.sku\n",
    "    ) AS productionCost,\n",
    "    (SUM(o.quantity * i.item_price) - \n",
    "        (\n",
    "            SELECT SUM(r.quantity * ing.ing_price)\n",
    "            FROM recipes r\n",
    "            JOIN ingredients ing ON r.ing_id = ing.ing_id\n",
    "            WHERE r.recipe_id = i.sku\n",
    "        )) AS profitability\n",
    "FROM Orders o\n",
    "JOIN items i ON o.item_id = i.item_id\n",
    "GROUP BY i.item_id, i.sku, i.item_name, i.item_cat, i.item_size\n",
    "ORDER BY profitability DESC\n",
    "'''\n",
    "cursor.execute(query_task2)\n",
    "task2_result = pd.DataFrame(cursor.fetchall())"
   ]
  },
  {
   "cell_type": "code",
   "execution_count": 22,
   "id": "9d33c4da",
   "metadata": {},
   "outputs": [],
   "source": [
    "# Task 3: Calculate the number of orders, sales, and profit for each hour the store is open\n",
    "query_task3 = '''\n",
    "SELECT \n",
    "    HOUR(o.created_at) AS hour,\n",
    "    COUNT(o.order_id) AS numberOfOrders,\n",
    "    SUM(o.quantity * i.item_price) AS totalSales,\n",
    "    (SUM(o.quantity * i.item_price) - \n",
    "        SUM(r.quantity * ing.ing_price)\n",
    "    ) AS totalProfit\n",
    "FROM Orders o\n",
    "JOIN Items i ON o.item_id = i.item_id\n",
    "JOIN Recipes r ON i.sku = r.recipe_id\n",
    "JOIN Ingredients ing ON r.ing_id = ing.ing_id\n",
    "GROUP BY HOUR(o.created_at)\n",
    "ORDER BY hour\n",
    "'''\n",
    "\n",
    "# Execute the query\n",
    "cursor.execute(query_task3)\n",
    "task3_result = pd.DataFrame(cursor.fetchall())"
   ]
  },
  {
   "cell_type": "code",
   "execution_count": 25,
   "id": "0f8c7f23",
   "metadata": {},
   "outputs": [],
   "source": [
    "# Task 4: Calculate the total hours worked by each staff member and their corresponding daily salaries\n",
    "query_task4 = '''\n",
    "SELECT \n",
    "    s.staff_id,\n",
    "    CONCAT(s.first_name, ' ', s.last_name) AS staffName,\n",
    "    s.position,\n",
    "    SUM(TIMESTAMPDIFF(HOUR, sh.start_time, sh.end_time)) AS totalHoursWorked,\n",
    "    SUM(TIMESTAMPDIFF(HOUR, sh.start_time, sh.end_time) * s.sal_per_hour) AS totalSalariesEarned\n",
    "FROM Rota r\n",
    "JOIN Staff s ON r.staff_id = s.staff_id\n",
    "JOIN Shift sh ON r.shift_id = sh.shift_id\n",
    "GROUP BY s.staff_id, staffName, s.position\n",
    "'''\n",
    "\n",
    "cursor.execute(query_task4)\n",
    "task4_result = pd.DataFrame(cursor.fetchall())"
   ]
  },
  {
   "cell_type": "code",
   "execution_count": 26,
   "id": "6bb92efa",
   "metadata": {},
   "outputs": [],
   "source": [
    "# Task 5: Retrieve the aggregate profit for dine-in and takeout orders, grouped by their respective categories\n",
    "query_task5 = '''\n",
    "SELECT \n",
    "    i.item_cat,\n",
    "    o.in_or_out AS orderType,\n",
    "    SUM(o.quantity * i.item_price) AS totalRevenue,\n",
    "    SUM(r.quantity * ing.ing_price) AS totalCost,\n",
    "    (SUM(o.quantity * i.item_price) - SUM(r.quantity * ing.ing_price)) AS totalProfit\n",
    "FROM Orders o\n",
    "JOIN Items i ON o.item_id = i.item_id\n",
    "JOIN Recipes r ON i.sku = r.recipe_id\n",
    "JOIN Ingredients ing ON r.ing_id = ing.ing_id\n",
    "GROUP BY i.item_cat, orderType\n",
    "ORDER BY totalProfit DESC\n",
    "'''\n",
    "\n",
    "cursor.execute(query_task5)\n",
    "task5_result = pd.DataFrame(cursor.fetchall())"
   ]
  },
  {
   "cell_type": "code",
   "execution_count": 28,
   "id": "4800831e",
   "metadata": {},
   "outputs": [],
   "source": [
    "# Task 6: Which shift is the busiest?\n",
    "query_task6 = '''\n",
    "SELECT \n",
    "    sh.shift_id,\n",
    "    sh.day_of_week,\n",
    "    sh.start_time,\n",
    "    sh.end_time,\n",
    "    COUNT(o.order_id) AS totalOrders\n",
    "FROM Rota r\n",
    "JOIN Shift sh ON r.shift_id = sh.shift_id\n",
    "JOIN Orders o ON o.row_id = r._id\n",
    "GROUP BY sh.shift_id, sh.day_of_week, sh.start_time, sh.end_time\n",
    "ORDER BY totalOrders DESC\n",
    "'''\n",
    "\n",
    "cursor.execute(query_task6)\n",
    "task6_result = pd.DataFrame(cursor.fetchall())"
   ]
  },
  {
   "cell_type": "code",
   "execution_count": 29,
   "id": "a71f89f2",
   "metadata": {},
   "outputs": [
    {
     "name": "stdout",
     "output_type": "stream",
     "text": [
      "Excel file 'output.xlsx' created successfully!\n"
     ]
    }
   ],
   "source": [
    "# Close the database connection\n",
    "cursor.close()\n",
    "conn.close()\n",
    "\n",
    "# Write results to Excel file\n",
    "with pd.ExcelWriter('output.xlsx', engine='openpyxl') as writer:\n",
    "    task1_result.to_excel(writer, sheet_name='TotalSalesAndRevenue', index=False)\n",
    "    task2_result.to_excel(writer, sheet_name='CostAndProfitability', index=False)\n",
    "    task3_result.to_excel(writer, sheet_name='SalesAndProfitByHour', index=False)\n",
    "    task4_result.to_excel(writer, sheet_name='StaffHoursAndSalaries', index=False)\n",
    "    task5_result.to_excel(writer, sheet_name='ProfitByOrderType', index=False)\n",
    "    task6_result.to_excel(writer, sheet_name='BusiestShift', index=False)\n",
    "\n",
    "print(\"Excel file 'output.xlsx' created successfully!\")"
   ]
  },
  {
   "cell_type": "code",
   "execution_count": null,
   "id": "7bccfb4d",
   "metadata": {},
   "outputs": [],
   "source": []
  },
  {
   "cell_type": "code",
   "execution_count": null,
   "id": "0992397b",
   "metadata": {},
   "outputs": [],
   "source": []
  },
  {
   "cell_type": "code",
   "execution_count": null,
   "id": "987cd8bd",
   "metadata": {},
   "outputs": [],
   "source": []
  },
  {
   "cell_type": "code",
   "execution_count": null,
   "id": "653b2cea",
   "metadata": {},
   "outputs": [],
   "source": []
  },
  {
   "cell_type": "code",
   "execution_count": null,
   "id": "3d890936",
   "metadata": {},
   "outputs": [],
   "source": []
  }
 ],
 "metadata": {
  "kernelspec": {
   "display_name": "Python 3 (ipykernel)",
   "language": "python",
   "name": "python3"
  },
  "language_info": {
   "codemirror_mode": {
    "name": "ipython",
    "version": 3
   },
   "file_extension": ".py",
   "mimetype": "text/x-python",
   "name": "python",
   "nbconvert_exporter": "python",
   "pygments_lexer": "ipython3",
   "version": "3.11.5"
  }
 },
 "nbformat": 4,
 "nbformat_minor": 5
}
